{
 "cells": [
  {
   "cell_type": "code",
   "execution_count": 1,
   "metadata": {},
   "outputs": [],
   "source": [
    "import numpy as np\n",
    "import pandas as pd\n",
    "import matplotlib.pyplot as plt\n",
    "% matplotlib inline\n",
    "# 导入模块\n",
    "\n",
    "import warnings\n",
    "warnings.filterwarnings('ignore') \n",
    "# 不发出警告"
   ]
  },
  {
   "cell_type": "code",
   "execution_count": 5,
   "metadata": {},
   "outputs": [
    {
     "data": {
      "image/png": "[encoded data removed]",
      "text/plain": [
       "<matplotlib.figure.Figure at 0x29202901828>"
      ]
     },
     "metadata": {
      "needs_background": "light"
     },
     "output_type": "display_data"
    }
   ],
   "source": [
    "# 数据分布的图表可视化 - 直方图\n",
    "\n",
    "r = np.random.RandomState(1)\n",
    "ar = r.randn(1000) * 1000  # 创建一个正态分布数组\n",
    "\n",
    "plt.hist(ar,bins = 50)\n",
    "plt.grid()"
   ]
  },
  {
   "cell_type": "code",
   "execution_count": 6,
   "metadata": {},
   "outputs": [
    {
     "data": {
      "image/png": "[encoded data removed]",
      "text/plain": [
       "<matplotlib.figure.Figure at 0x2920c7dc748>"
      ]
     },
     "metadata": {
      "needs_background": "light"
     },
     "output_type": "display_data"
    }
   ],
   "source": [
    "# 数据分布的图表可视化 - 箱型图\n",
    "\n",
    "plt.boxplot(ar,\n",
    "            vert = True,  # 是否垂直\n",
    "            whis = 1.5,  # IQR，默认1.5，也可以设置区间比如[5,95]，代表强制上下边缘为数据95%和5%位置\n",
    "            patch_artist = True,  # 上下四分位框内是否填充，True为填充\n",
    "            meanline = False,showmeans=True,  # 是否有均值线及其形状\n",
    "            showbox = True,  # 是否显示箱线\n",
    "            showcaps = True,  # 是否显示边缘线\n",
    "            showfliers = True,  # 是否显示异常值\n",
    "            notch = False,  # 中间箱体是否缺口\n",
    "            )\n",
    "plt.grid()"
   ]
  },
  {
   "cell_type": "code",
   "execution_count": 7,
   "metadata": {},
   "outputs": [
    {
     "name": "stdout",
     "output_type": "stream",
     "text": [
      "df的25分位数为-600.16, 40分位数为-191.90, 75分位数为704.00\n",
      "df的中位数为41.29\n",
      "-------\n",
      "ar的25分位数为-600.16, 40分位数为-191.90, 75分位数为704.00\n"
     ]
    }
   ],
   "source": [
    "# 计算分位数\n",
    "\n",
    "df = pd.DataFrame(ar,columns = ['value'])\n",
    "q25 = df['value'].quantile(0.25)\n",
    "q40 = df['value'].quantile(0.4)\n",
    "q75 = df['value'].quantile(0.75)\n",
    "print('df的25分位数为%.2f, 40分位数为%.2f, 75分位数为%.2f' % (q25,q40,q75))\n",
    "print('df的中位数为%.2f' % df['value'].median())\n",
    "print('-------')\n",
    "# pandas中为.quantile()\n",
    "\n",
    "a25 = np.percentile(ar,25)\n",
    "a40 = np.percentile(ar,40)\n",
    "a75 = np.percentile(ar,75)\n",
    "print('ar的25分位数为%.2f, 40分位数为%.2f, 75分位数为%.2f' % (a25,a40,a75))\n",
    "# numpy中为.percentile()"
   ]
  },
  {
   "cell_type": "code",
   "execution_count": null,
   "metadata": {},
   "outputs": [],
   "source": []
  }
 ],
 "metadata": {
  "kernelspec": {
   "display_name": "Python 3",
   "language": "python",
   "name": "python3"
  },
  "language_info": {
   "codemirror_mode": {
    "name": "ipython",
    "version": 3
   },
   "file_extension": ".py",
   "mimetype": "text/x-python",
   "name": "python",
   "nbconvert_exporter": "python",
   "pygments_lexer": "ipython3",
   "version": "3.6.2"
  }
 },
 "nbformat": 4,
 "nbformat_minor": 1
}
