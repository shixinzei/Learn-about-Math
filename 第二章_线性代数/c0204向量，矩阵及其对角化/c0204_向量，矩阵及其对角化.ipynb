{
 "cells": [
  {
   "cell_type": "code",
   "execution_count": 1,
   "metadata": {},
   "outputs": [],
   "source": [
    "import numpy as np\n",
    "import pandas as pd\n",
    "import matplotlib.pyplot as plt\n",
    "% matplotlib inline\n",
    "# 导入模块\n",
    "\n",
    "import warnings\n",
    "warnings.filterwarnings('ignore') \n",
    "# 不发出警告"
   ]
  },
  {
   "cell_type": "markdown",
   "metadata": {},
   "source": [
    "2.4.3 向量的性质\n",
    "* np.linalg.eigvals() → 计算矩阵的特征值\n",
    "* np.linalg.eig() → 返回包含特征值和对应特征向量的元组"
   ]
  },
  {
   "cell_type": "code",
   "execution_count": 3,
   "metadata": {},
   "outputs": [
    {
     "name": "stdout",
     "output_type": "stream",
     "text": [
      "[4. 2.]\n",
      "(array([4., 2.]), array([[ 0.70710678,  0.70710678],\n",
      "       [-0.70710678,  0.70710678]]))\n"
     ]
    }
   ],
   "source": [
    "# 例子1\n",
    "\n",
    "a = np.array([\n",
    "        [3,-1],\n",
    "        [-1,3]\n",
    "    ])\n",
    "print(np.linalg.eigvals(a))\n",
    "print(np.linalg.eig(a))"
   ]
  },
  {
   "cell_type": "code",
   "execution_count": 4,
   "metadata": {},
   "outputs": [
    {
     "name": "stdout",
     "output_type": "stream",
     "text": [
      "[2. 1. 1.]\n",
      "(array([2., 1., 1.]), array([[ 0.        ,  0.40824829,  0.40824829],\n",
      "       [ 0.        ,  0.81649658,  0.81649658],\n",
      "       [ 1.        , -0.40824829, -0.40824829]]))\n"
     ]
    }
   ],
   "source": [
    "# 例子2\n",
    "\n",
    "a = np.array([\n",
    "        [-1,1,0],\n",
    "        [-4,3,0],\n",
    "        [1,0,2]\n",
    "    ])\n",
    "print(np.linalg.eigvals(a))\n",
    "print(np.linalg.eig(a))"
   ]
  },
  {
   "cell_type": "markdown",
   "metadata": {},
   "source": [
    "2.4.4 矩阵的对角化\n",
    "* np.diag() → 对角化"
   ]
  },
  {
   "cell_type": "code",
   "execution_count": 5,
   "metadata": {},
   "outputs": [
    {
     "name": "stdout",
     "output_type": "stream",
     "text": [
      "[-1.  2.  2.]\n"
     ]
    },
    {
     "data": {
      "text/plain": [
       "array([[-1.,  0.,  0.],\n",
       "       [ 0.,  2.,  0.],\n",
       "       [ 0.,  0.,  2.]])"
      ]
     },
     "execution_count": 5,
     "metadata": {},
     "output_type": "execute_result"
    }
   ],
   "source": [
    "a = np.array([\n",
    "        [-2,1,1],\n",
    "        [0,2,0],\n",
    "        [-4,1,3]\n",
    "    ])\n",
    "print(np.linalg.eigvals(a)) \n",
    "# 得到特征值\n",
    "np.diag(np.linalg.eigvals(a))\n",
    "# 得到对角化矩阵"
   ]
  },
  {
   "cell_type": "code",
   "execution_count": null,
   "metadata": {},
   "outputs": [],
   "source": []
  }
 ],
 "metadata": {
  "kernelspec": {
   "display_name": "Python 3",
   "language": "python",
   "name": "python3"
  },
  "language_info": {
   "codemirror_mode": {
    "name": "ipython",
    "version": 3
   },
   "file_extension": ".py",
   "mimetype": "text/x-python",
   "name": "python",
   "nbconvert_exporter": "python",
   "pygments_lexer": "ipython3",
   "version": "3.6.2"
  }
 },
 "nbformat": 4,
 "nbformat_minor": 1
}
