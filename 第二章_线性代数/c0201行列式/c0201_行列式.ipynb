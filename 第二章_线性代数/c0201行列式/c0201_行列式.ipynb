{
 "cells": [
  {
   "cell_type": "code",
   "execution_count": 1,
   "metadata": {},
   "outputs": [],
   "source": [
    "import numpy as np\n",
    "import pandas as pd\n",
    "import matplotlib.pyplot as plt\n",
    "% matplotlib inline\n",
    "# 导入模块\n",
    "\n",
    "import warnings\n",
    "warnings.filterwarnings('ignore') \n",
    "# 不发出警告"
   ]
  },
  {
   "cell_type": "markdown",
   "metadata": {},
   "source": [
    "行列式的计算 → numpy.linalg.det\n",
    "* 计算任何一个数组a的行列式，但是这里要求数组的最后两个维度必须是方阵"
   ]
  },
  {
   "cell_type": "code",
   "execution_count": 3,
   "metadata": {},
   "outputs": [
    {
     "name": "stdout",
     "output_type": "stream",
     "text": [
      "[[ 4  1  2  4]\n",
      " [ 1  2  0  2]\n",
      " [10  5  2  0]\n",
      " [ 0  1  1  7]]\n"
     ]
    },
    {
     "data": {
      "text/plain": [
       "-1.5099033134902104e-14"
      ]
     },
     "execution_count": 3,
     "metadata": {},
     "output_type": "execute_result"
    }
   ],
   "source": [
    "# 练习1\n",
    "d = np.array([\n",
    "        [4,1,2,4],\n",
    "        [1,2,0,2],\n",
    "        [10,5,2,0],\n",
    "        [0,1,1,7]\n",
    "    ])\n",
    "print(d)\n",
    "\n",
    "np.linalg.det(d) # 计算行列式结果"
   ]
  },
  {
   "cell_type": "code",
   "execution_count": 4,
   "metadata": {},
   "outputs": [
    {
     "name": "stdout",
     "output_type": "stream",
     "text": [
      "[[20.  5.  5.  5.  5.  5.  5.  5.  5.  5.]\n",
      " [ 5. 20.  5.  5.  5.  5.  5.  5.  5.  5.]\n",
      " [ 5.  5. 20.  5.  5.  5.  5.  5.  5.  5.]\n",
      " [ 5.  5.  5. 20.  5.  5.  5.  5.  5.  5.]\n",
      " [ 5.  5.  5.  5. 20.  5.  5.  5.  5.  5.]\n",
      " [ 5.  5.  5.  5.  5. 20.  5.  5.  5.  5.]\n",
      " [ 5.  5.  5.  5.  5.  5. 20.  5.  5.  5.]\n",
      " [ 5.  5.  5.  5.  5.  5.  5. 20.  5.  5.]\n",
      " [ 5.  5.  5.  5.  5.  5.  5.  5. 20.  5.]\n",
      " [ 5.  5.  5.  5.  5.  5.  5.  5.  5. 20.]]\n"
     ]
    },
    {
     "data": {
      "text/plain": [
       "2498818359374.998"
      ]
     },
     "execution_count": 4,
     "metadata": {},
     "output_type": "execute_result"
    }
   ],
   "source": [
    "# 练习2\n",
    "def createD(a,x,n):\n",
    "    # 构建函数，生成一个n阶的行列式，其中对角线值为x，其余为a\n",
    "    di = np.eye(n)\n",
    "    di = di * x\n",
    "    di[di==0] = a\n",
    "    return di\n",
    "\n",
    "d = createD(5,20,10)\n",
    "print(d)\n",
    "np.linalg.det(d)"
   ]
  },
  {
   "cell_type": "code",
   "execution_count": null,
   "metadata": {},
   "outputs": [],
   "source": []
  }
 ],
 "metadata": {
  "anaconda-cloud": {},
  "kernelspec": {
   "display_name": "Python 3",
   "language": "python",
   "name": "python3"
  },
  "language_info": {
   "codemirror_mode": {
    "name": "ipython",
    "version": 3
   },
   "file_extension": ".py",
   "mimetype": "text/x-python",
   "name": "python",
   "nbconvert_exporter": "python",
   "pygments_lexer": "ipython3",
   "version": "3.6.2"
  }
 },
 "nbformat": 4,
 "nbformat_minor": 1
}
