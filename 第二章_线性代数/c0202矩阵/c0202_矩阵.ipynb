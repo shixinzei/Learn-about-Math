{
 "cells": [
  {
   "cell_type": "code",
   "execution_count": 6,
   "metadata": {},
   "outputs": [],
   "source": [
    "import numpy as np\n",
    "import pandas as pd\n",
    "import matplotlib.pyplot as plt\n",
    "% matplotlib inline\n",
    "# 导入模块\n",
    "\n",
    "import warnings\n",
    "warnings.filterwarnings('ignore') \n",
    "# 不发出警告"
   ]
  },
  {
   "cell_type": "markdown",
   "metadata": {},
   "source": [
    "2.2.1 矩阵"
   ]
  },
  {
   "cell_type": "code",
   "execution_count": 8,
   "metadata": {},
   "outputs": [
    {
     "data": {
      "text/plain": [
       "array([[ 0,  1,  2,  3,  4,  5],\n",
       "       [ 6,  7,  8,  9, 10, 11],\n",
       "       [12, 13, 14, 15, 16, 17],\n",
       "       [18, 19, 20, 21, 22, 23],\n",
       "       [24, 25, 26, 27, 28, 29],\n",
       "       [30, 31, 32, 33, 34, 35],\n",
       "       [36, 37, 38, 39, 40, 41],\n",
       "       [42, 43, 44, 45, 46, 47],\n",
       "       [48, 49, 50, 51, 52, 53],\n",
       "       [54, 55, 56, 57, 58, 59]])"
      ]
     },
     "execution_count": 8,
     "metadata": {},
     "output_type": "execute_result"
    }
   ],
   "source": [
    "np.arange(60).reshape(10,6)\n",
    "# 构造一个10*6的矩阵"
   ]
  },
  {
   "cell_type": "code",
   "execution_count": 10,
   "metadata": {},
   "outputs": [
    {
     "data": {
      "text/plain": [
       "array([[10.,  0.,  0.,  0.,  0.,  0.,  0.,  0.,  0.,  0.],\n",
       "       [ 0., 10.,  0.,  0.,  0.,  0.,  0.,  0.,  0.,  0.],\n",
       "       [ 0.,  0., 10.,  0.,  0.,  0.,  0.,  0.,  0.,  0.],\n",
       "       [ 0.,  0.,  0., 10.,  0.,  0.,  0.,  0.,  0.,  0.],\n",
       "       [ 0.,  0.,  0.,  0., 10.,  0.,  0.,  0.,  0.,  0.],\n",
       "       [ 0.,  0.,  0.,  0.,  0., 10.,  0.,  0.,  0.,  0.],\n",
       "       [ 0.,  0.,  0.,  0.,  0.,  0., 10.,  0.,  0.,  0.],\n",
       "       [ 0.,  0.,  0.,  0.,  0.,  0.,  0., 10.,  0.,  0.],\n",
       "       [ 0.,  0.,  0.,  0.,  0.,  0.,  0.,  0., 10.,  0.],\n",
       "       [ 0.,  0.,  0.,  0.,  0.,  0.,  0.,  0.,  0., 10.]])"
      ]
     },
     "execution_count": 10,
     "metadata": {},
     "output_type": "execute_result"
    }
   ],
   "source": [
    "np.eye(10)*10\n",
    "# 10阶方阵，当对角线值为1时为对角矩阵"
   ]
  },
  {
   "cell_type": "code",
   "execution_count": 12,
   "metadata": {},
   "outputs": [
    {
     "data": {
      "text/plain": [
       "array([[1., 0., 0., 0., 0.],\n",
       "       [0., 1., 0., 0., 0.],\n",
       "       [0., 0., 1., 0., 0.],\n",
       "       [0., 0., 0., 1., 0.],\n",
       "       [0., 0., 0., 0., 1.]])"
      ]
     },
     "execution_count": 12,
     "metadata": {},
     "output_type": "execute_result"
    }
   ],
   "source": [
    "np.eye(5)\n",
    "# 5阶方阵，当对角线值为1时为对角矩阵"
   ]
  },
  {
   "cell_type": "code",
   "execution_count": 13,
   "metadata": {},
   "outputs": [
    {
     "name": "stdout",
     "output_type": "stream",
     "text": [
      "[ 0  1  2  3  4  5  6  7  8  9 10 11 12 13 14 15 16 17 18 19]\n",
      "(20,)\n"
     ]
    }
   ],
   "source": [
    "a = np.arange(20)\n",
    "print(a)\n",
    "print(a.shape)\n",
    "# 行向量"
   ]
  },
  {
   "cell_type": "code",
   "execution_count": 14,
   "metadata": {},
   "outputs": [
    {
     "name": "stdout",
     "output_type": "stream",
     "text": [
      "[[ 0]\n",
      " [ 1]\n",
      " [ 2]\n",
      " [ 3]\n",
      " [ 4]\n",
      " [ 5]\n",
      " [ 6]\n",
      " [ 7]\n",
      " [ 8]\n",
      " [ 9]\n",
      " [10]\n",
      " [11]]\n",
      "(12, 1)\n"
     ]
    }
   ],
   "source": [
    "a = np.arange(12).reshape(12,1)\n",
    "print(a)\n",
    "print(a.shape)\n",
    "# 列向量"
   ]
  },
  {
   "cell_type": "markdown",
   "metadata": {},
   "source": [
    "2.2.2 矩阵的运算"
   ]
  },
  {
   "cell_type": "code",
   "execution_count": 15,
   "metadata": {},
   "outputs": [
    {
     "name": "stdout",
     "output_type": "stream",
     "text": [
      "[[ 0  1  2  3]\n",
      " [ 4  5  6  7]\n",
      " [ 8  9 10 11]]\n",
      "[[10 11 12 13]\n",
      " [14 15 16 17]\n",
      " [18 19 20 21]]\n",
      "[[1. 1. 1. 1.]\n",
      " [1. 1. 1. 1.]\n",
      " [1. 1. 1. 1.]]\n",
      "[[1. 1. 1. 1. 1.]\n",
      " [1. 1. 1. 1. 1.]\n",
      " [1. 1. 1. 1. 1.]]\n"
     ]
    }
   ],
   "source": [
    "ar1 = np.arange(12).reshape(3,4)\n",
    "ar2 = np.arange(10,22).reshape(3,4)\n",
    "ar3 = np.ones((3,4))\n",
    "ar4 = np.ones((3,5))\n",
    "print(ar1)\n",
    "print(ar2)\n",
    "print(ar3)\n",
    "print(ar4)"
   ]
  },
  {
   "cell_type": "code",
   "execution_count": 16,
   "metadata": {},
   "outputs": [
    {
     "name": "stdout",
     "output_type": "stream",
     "text": [
      "[[10 12 14 16]\n",
      " [18 20 22 24]\n",
      " [26 28 30 32]]\n",
      "[[11. 13. 15. 17.]\n",
      " [19. 21. 23. 25.]\n",
      " [27. 29. 31. 33.]]\n"
     ]
    }
   ],
   "source": [
    "# 矩阵加法\n",
    "\n",
    "print(ar1+ar2)\n",
    "print(ar1+ar2+ar3)\n",
    "#print(ar1+ar4)\n",
    "# shape需要相同"
   ]
  },
  {
   "cell_type": "code",
   "execution_count": 17,
   "metadata": {},
   "outputs": [
    {
     "data": {
      "text/plain": [
       "array([[  0,  10,  20,  30],\n",
       "       [ 40,  50,  60,  70],\n",
       "       [ 80,  90, 100, 110]])"
      ]
     },
     "execution_count": 17,
     "metadata": {},
     "output_type": "execute_result"
    }
   ],
   "source": [
    "# 数与矩阵相乘\n",
    "\n",
    "ar1 * 10"
   ]
  },
  {
   "cell_type": "code",
   "execution_count": 18,
   "metadata": {},
   "outputs": [
    {
     "name": "stdout",
     "output_type": "stream",
     "text": [
      "[[  0  11  24  39]\n",
      " [ 56  75  96 119]\n",
      " [144 171 200 231]]\n",
      "------\n",
      "(3,) (3, 1) (1,)\n",
      "[56] <class 'numpy.ndarray'>\n",
      "(2, 3) (3, 2) (2, 2)\n",
      "[[32 32]\n",
      " [47 47]]\n"
     ]
    }
   ],
   "source": [
    "# 数组与矩阵相乘\n",
    "\n",
    "print(ar1*ar2) \n",
    "#print(ar1*ar4)\n",
    "print('------')\n",
    "# 数组相乘 → numpy里面两个shape相同的数组可以直接相乘，对应位置的值的乘积为结果\n",
    "# 如果shape不同，则报错\n",
    "\n",
    "a1 = np.array([2,3,4])\n",
    "b1 = np.array([5,6,7]).reshape(3,1)  # 转换为列向量\n",
    "c1 = np.dot(a1,b1)\n",
    "print(a1.shape,b1.shape,c1.shape)\n",
    "print(c1,type(c1))\n",
    "\n",
    "a2 = np.array([\n",
    "        [1,2,3],\n",
    "        [2,3,4]\n",
    "    ])\n",
    "b2 = np.array([\n",
    "        [4,4],\n",
    "        [5,5],\n",
    "        [6,6]\n",
    "    ])\n",
    "c2 = np.dot(a2,b2)\n",
    "print(a2.shape,b2.shape,c2.shape)\n",
    "print(c2)\n",
    "# 矩阵乘法，需要保证第一个矩阵的列数（column）和第二个矩阵的行数（row）相同\n",
    "# 设 A = (aij) 是一个m×s 矩阵, B = (bij)是一个s×n矩阵，那么规定矩阵A与矩阵B的乘积是一个m×n的矩阵\n",
    "# 矩阵相乘结果仍为矩阵\n",
    "# numpy中用.dop()来计算矩阵乘法"
   ]
  },
  {
   "cell_type": "code",
   "execution_count": 19,
   "metadata": {},
   "outputs": [
    {
     "name": "stdout",
     "output_type": "stream",
     "text": [
      "[[-16 -32]\n",
      " [  8  16]]\n",
      "[[0 0]\n",
      " [0 0]]\n"
     ]
    }
   ],
   "source": [
    "# 矩阵乘法：A*B 与 B*A\n",
    "\n",
    "a3 = np.array([\n",
    "        [-2,4],\n",
    "        [1,-2]\n",
    "    ])\n",
    "b3 = np.array([\n",
    "        [2,4],\n",
    "        [-3,-6]\n",
    "    ])\n",
    "print(np.dot(a3,b3))\n",
    "print(np.dot(b3,a3))"
   ]
  },
  {
   "cell_type": "code",
   "execution_count": 20,
   "metadata": {},
   "outputs": [
    {
     "data": {
      "text/plain": [
       "array([[ 0, 17],\n",
       "       [14, 13],\n",
       "       [-3, 10]])"
      ]
     },
     "execution_count": 20,
     "metadata": {},
     "output_type": "execute_result"
    }
   ],
   "source": [
    "# 矩阵的转置\n",
    "\n",
    "A = np.array([\n",
    "        [2,0,-1],\n",
    "        [1,3,2]\n",
    "    ])\n",
    "B = np.array([\n",
    "        [1,7,-1],\n",
    "        [4,2,3],\n",
    "        [2,0,1]\n",
    "    ])\n",
    "np.dot(A,B).T"
   ]
  },
  {
   "cell_type": "markdown",
   "metadata": {},
   "source": [
    "2.2.3 逆矩阵\n",
    "* 设A是数域上的一个n阶矩阵，若在相同数域上存在另一个n阶矩阵B，使得： AB=BA=E ，则我们称B是A的逆矩阵，而A则被称为可逆矩阵。注：E为单位矩阵 → 单位矩阵值为1\n",
    "* 唯一性：若矩阵A是可逆的，则A的逆矩阵是唯一的\n",
    "* A的逆矩阵的逆矩阵还是A。记作（A-1）-1=A\n",
    "* 可逆矩阵A的转置矩阵AT也可逆，并且（AT）-1=（A-1）T (转置的逆等于逆的转置）\n",
    "* 两个可逆矩阵的乘积依然可逆"
   ]
  },
  {
   "cell_type": "code",
   "execution_count": 21,
   "metadata": {},
   "outputs": [
    {
     "name": "stdout",
     "output_type": "stream",
     "text": [
      "[[1 2 3]\n",
      " [2 2 1]\n",
      " [3 4 3]]\n",
      "1.9999999999999991\n"
     ]
    }
   ],
   "source": [
    "# 创建A矩阵\n",
    "\n",
    "A = np.array([\n",
    "        [1,2,3],\n",
    "        [2,2,1],\n",
    "        [3,4,3]\n",
    "    ])\n",
    "print(A)\n",
    "print(np.linalg.det(A))"
   ]
  },
  {
   "cell_type": "code",
   "execution_count": 23,
   "metadata": {},
   "outputs": [
    {
     "name": "stdout",
     "output_type": "stream",
     "text": [
      "[[ 1.   3.  -2. ]\n",
      " [-1.5 -3.   2.5]\n",
      " [ 1.   1.  -1. ]]\n",
      "0.5000000000000004\n"
     ]
    }
   ],
   "source": [
    "# numpy求逆矩阵B → np.linalg.inv()\n",
    "\n",
    "B = np.linalg.inv(A)\n",
    "print(B)\n",
    "\n",
    "print(np.linalg.det(B))"
   ]
  },
  {
   "cell_type": "code",
   "execution_count": 24,
   "metadata": {},
   "outputs": [
    {
     "name": "stdout",
     "output_type": "stream",
     "text": [
      "[[ 1.00000000e+00  2.22044605e-16  0.00000000e+00]\n",
      " [-2.22044605e-16  1.00000000e+00  4.44089210e-16]\n",
      " [-2.22044605e-16  2.22044605e-16  1.00000000e+00]]\n",
      "1.0\n"
     ]
    }
   ],
   "source": [
    "# A*B = E，单位矩阵\n",
    "\n",
    "E = np.dot(A,B)\n",
    "print(E)\n",
    "print(np.linalg.det(E))\n",
    "#np.eye(3)"
   ]
  },
  {
   "cell_type": "code",
   "execution_count": 25,
   "metadata": {},
   "outputs": [
    {
     "name": "stdout",
     "output_type": "stream",
     "text": [
      "[[ 2.  6. -4.]\n",
      " [-3. -6.  5.]\n",
      " [ 2.  2. -2.]]\n",
      "3.9999999999999947\n"
     ]
    }
   ],
   "source": [
    "# 伴随矩阵\n",
    "\n",
    "A_bs = B*np.linalg.det(A)\n",
    "print(A_bs)\n",
    "print(np.linalg.det(A_bs))"
   ]
  },
  {
   "cell_type": "code",
   "execution_count": 26,
   "metadata": {},
   "outputs": [
    {
     "name": "stdout",
     "output_type": "stream",
     "text": [
      "[[-2.   4.   5.  -6. ]\n",
      " [-1.   2.   2.  -2. ]\n",
      " [ 1.  -2.  -2.   3. ]\n",
      " [ 2.  -3.5 -4.5  5. ]]\n"
     ]
    },
    {
     "data": {
      "text/plain": [
       "1.9999999999999993"
      ]
     },
     "execution_count": 26,
     "metadata": {},
     "output_type": "execute_result"
    }
   ],
   "source": [
    "# 练习1\n",
    "\n",
    "a = np.array([\n",
    "        [4,1,2,4],\n",
    "        [1,2,0,2],\n",
    "        [1,0,2,0],\n",
    "        [0,1,1,0]\n",
    "    ])\n",
    "\n",
    "print(np.linalg.inv(a))\n",
    "np.linalg.det(a)"
   ]
  },
  {
   "cell_type": "code",
   "execution_count": 27,
   "metadata": {},
   "outputs": [
    {
     "name": "stdout",
     "output_type": "stream",
     "text": [
      "该方程的三个根为：x1=2.00, x2=-0.50, x3=0.50\n"
     ]
    }
   ],
   "source": [
    "# 练习2\n",
    "\n",
    "a = np.array([\n",
    "        [1,1,1],\n",
    "        [1,2,4],\n",
    "        [1,3,9]\n",
    "    ])\n",
    "a1 = np.array([\n",
    "        [2,1,1],\n",
    "        [3,2,4],\n",
    "        [5,3,9]\n",
    "    ])\n",
    "a2 = np.array([\n",
    "        [1,2,1],\n",
    "        [1,3,4],\n",
    "        [1,5,9]\n",
    "    ])\n",
    "a3 = np.array([\n",
    "        [1,1,2],\n",
    "        [1,2,3],\n",
    "        [1,3,5]\n",
    "    ])\n",
    "\n",
    "x1 = np.linalg.det(a1)/np.linalg.det(a)\n",
    "x2 = np.linalg.det(a2)/np.linalg.det(a)\n",
    "x3 = np.linalg.det(a3)/np.linalg.det(a)\n",
    "\n",
    "print('该方程的三个根为：x1=%.2f, x2=%.2f, x3=%.2f' % (x1,x2,x3))"
   ]
  },
  {
   "cell_type": "code",
   "execution_count": null,
   "metadata": {},
   "outputs": [],
   "source": []
  }
 ],
 "metadata": {
  "anaconda-cloud": {},
  "kernelspec": {
   "display_name": "Python 3",
   "language": "python",
   "name": "python3"
  },
  "language_info": {
   "codemirror_mode": {
    "name": "ipython",
    "version": 3
   },
   "file_extension": ".py",
   "mimetype": "text/x-python",
   "name": "python",
   "nbconvert_exporter": "python",
   "pygments_lexer": "ipython3",
   "version": "3.6.2"
  }
 },
 "nbformat": 4,
 "nbformat_minor": 1
}
